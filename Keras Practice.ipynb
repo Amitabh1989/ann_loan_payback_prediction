{
 "cells": [
  {
   "cell_type": "code",
   "execution_count": 1,
   "id": "9ea958f0",
   "metadata": {},
   "outputs": [],
   "source": [
    "import pandas as pd\n",
    "import numpy as np\n",
    "import matplotlib.pyplot as plt\n",
    "import seaborn as sns\n",
    "%matplotlib inline"
   ]
  },
  {
   "cell_type": "code",
   "execution_count": 2,
   "id": "8923878d",
   "metadata": {},
   "outputs": [],
   "source": [
    "data = pd.read_csv('../DATA/fake_reg.csv')"
   ]
  },
  {
   "cell_type": "code",
   "execution_count": 3,
   "id": "de87b8ee",
   "metadata": {},
   "outputs": [
    {
     "data": {
      "text/html": [
       "<div>\n",
       "<style scoped>\n",
       "    .dataframe tbody tr th:only-of-type {\n",
       "        vertical-align: middle;\n",
       "    }\n",
       "\n",
       "    .dataframe tbody tr th {\n",
       "        vertical-align: top;\n",
       "    }\n",
       "\n",
       "    .dataframe thead th {\n",
       "        text-align: right;\n",
       "    }\n",
       "</style>\n",
       "<table border=\"1\" class=\"dataframe\">\n",
       "  <thead>\n",
       "    <tr style=\"text-align: right;\">\n",
       "      <th></th>\n",
       "      <th>price</th>\n",
       "      <th>feature1</th>\n",
       "      <th>feature2</th>\n",
       "    </tr>\n",
       "  </thead>\n",
       "  <tbody>\n",
       "    <tr>\n",
       "      <th>0</th>\n",
       "      <td>461.527929</td>\n",
       "      <td>999.787558</td>\n",
       "      <td>999.766096</td>\n",
       "    </tr>\n",
       "    <tr>\n",
       "      <th>1</th>\n",
       "      <td>548.130011</td>\n",
       "      <td>998.861615</td>\n",
       "      <td>1001.042403</td>\n",
       "    </tr>\n",
       "    <tr>\n",
       "      <th>2</th>\n",
       "      <td>410.297162</td>\n",
       "      <td>1000.070267</td>\n",
       "      <td>998.844015</td>\n",
       "    </tr>\n",
       "    <tr>\n",
       "      <th>3</th>\n",
       "      <td>540.382220</td>\n",
       "      <td>999.952251</td>\n",
       "      <td>1000.440940</td>\n",
       "    </tr>\n",
       "    <tr>\n",
       "      <th>4</th>\n",
       "      <td>546.024553</td>\n",
       "      <td>1000.446011</td>\n",
       "      <td>1000.338531</td>\n",
       "    </tr>\n",
       "  </tbody>\n",
       "</table>\n",
       "</div>"
      ],
      "text/plain": [
       "        price     feature1     feature2\n",
       "0  461.527929   999.787558   999.766096\n",
       "1  548.130011   998.861615  1001.042403\n",
       "2  410.297162  1000.070267   998.844015\n",
       "3  540.382220   999.952251  1000.440940\n",
       "4  546.024553  1000.446011  1000.338531"
      ]
     },
     "execution_count": 3,
     "metadata": {},
     "output_type": "execute_result"
    }
   ],
   "source": [
    "data.head()"
   ]
  },
  {
   "cell_type": "code",
   "execution_count": 4,
   "id": "3460ac3d",
   "metadata": {},
   "outputs": [
    {
     "data": {
      "text/html": [
       "<div>\n",
       "<style scoped>\n",
       "    .dataframe tbody tr th:only-of-type {\n",
       "        vertical-align: middle;\n",
       "    }\n",
       "\n",
       "    .dataframe tbody tr th {\n",
       "        vertical-align: top;\n",
       "    }\n",
       "\n",
       "    .dataframe thead th {\n",
       "        text-align: right;\n",
       "    }\n",
       "</style>\n",
       "<table border=\"1\" class=\"dataframe\">\n",
       "  <thead>\n",
       "    <tr style=\"text-align: right;\">\n",
       "      <th></th>\n",
       "      <th>price</th>\n",
       "      <th>feature1</th>\n",
       "      <th>feature2</th>\n",
       "    </tr>\n",
       "  </thead>\n",
       "  <tbody>\n",
       "    <tr>\n",
       "      <th>count</th>\n",
       "      <td>1000.000000</td>\n",
       "      <td>1000.000000</td>\n",
       "      <td>1000.000000</td>\n",
       "    </tr>\n",
       "    <tr>\n",
       "      <th>mean</th>\n",
       "      <td>498.673029</td>\n",
       "      <td>1000.014171</td>\n",
       "      <td>999.979847</td>\n",
       "    </tr>\n",
       "    <tr>\n",
       "      <th>std</th>\n",
       "      <td>93.785431</td>\n",
       "      <td>0.974018</td>\n",
       "      <td>0.948330</td>\n",
       "    </tr>\n",
       "    <tr>\n",
       "      <th>min</th>\n",
       "      <td>223.346793</td>\n",
       "      <td>997.058347</td>\n",
       "      <td>996.995651</td>\n",
       "    </tr>\n",
       "    <tr>\n",
       "      <th>25%</th>\n",
       "      <td>433.025732</td>\n",
       "      <td>999.332068</td>\n",
       "      <td>999.316106</td>\n",
       "    </tr>\n",
       "    <tr>\n",
       "      <th>50%</th>\n",
       "      <td>502.382117</td>\n",
       "      <td>1000.009915</td>\n",
       "      <td>1000.002243</td>\n",
       "    </tr>\n",
       "    <tr>\n",
       "      <th>75%</th>\n",
       "      <td>564.921588</td>\n",
       "      <td>1000.637580</td>\n",
       "      <td>1000.645380</td>\n",
       "    </tr>\n",
       "    <tr>\n",
       "      <th>max</th>\n",
       "      <td>774.407854</td>\n",
       "      <td>1003.207934</td>\n",
       "      <td>1002.666308</td>\n",
       "    </tr>\n",
       "  </tbody>\n",
       "</table>\n",
       "</div>"
      ],
      "text/plain": [
       "             price     feature1     feature2\n",
       "count  1000.000000  1000.000000  1000.000000\n",
       "mean    498.673029  1000.014171   999.979847\n",
       "std      93.785431     0.974018     0.948330\n",
       "min     223.346793   997.058347   996.995651\n",
       "25%     433.025732   999.332068   999.316106\n",
       "50%     502.382117  1000.009915  1000.002243\n",
       "75%     564.921588  1000.637580  1000.645380\n",
       "max     774.407854  1003.207934  1002.666308"
      ]
     },
     "execution_count": 4,
     "metadata": {},
     "output_type": "execute_result"
    }
   ],
   "source": [
    "data.describe()"
   ]
  },
  {
   "cell_type": "code",
   "execution_count": 5,
   "id": "82fe7334",
   "metadata": {},
   "outputs": [
    {
     "data": {
      "text/plain": [
       "(1000, 3)"
      ]
     },
     "execution_count": 5,
     "metadata": {},
     "output_type": "execute_result"
    }
   ],
   "source": [
    "data.shape"
   ]
  },
  {
   "cell_type": "code",
   "execution_count": 6,
   "id": "5b05bf25",
   "metadata": {},
   "outputs": [
    {
     "data": {
      "text/plain": [
       "price       0\n",
       "feature1    0\n",
       "feature2    0\n",
       "dtype: int64"
      ]
     },
     "execution_count": 6,
     "metadata": {},
     "output_type": "execute_result"
    }
   ],
   "source": [
    "data.isnull().sum()"
   ]
  },
  {
   "cell_type": "code",
   "execution_count": 7,
   "id": "e15568a0",
   "metadata": {},
   "outputs": [
    {
     "data": {
      "text/plain": [
       "<seaborn.axisgrid.PairGrid at 0x2237ca21910>"
      ]
     },
     "execution_count": 7,
     "metadata": {},
     "output_type": "execute_result"
    },
    {
     "data": {
      "text/plain": [
       "<Figure size 864x720 with 0 Axes>"
      ]
     },
     "metadata": {},
     "output_type": "display_data"
    },
    {
     "data": {
      "image/png": "[encoded data removed]",
      "text/plain": [
       "<Figure size 415.125x360 with 6 Axes>"
      ]
     },
     "metadata": {
      "needs_background": "light"
     },
     "output_type": "display_data"
    }
   ],
   "source": [
    "plt.figure(figsize=(12,10))\n",
    "sns.pairplot(data, hue=\"price\")"
   ]
  },
  {
   "cell_type": "code",
   "execution_count": 8,
   "id": "6fbcf137",
   "metadata": {},
   "outputs": [
    {
     "data": {
      "text/plain": [
       "<AxesSubplot:xlabel='feature1', ylabel='feature2'>"
      ]
     },
     "execution_count": 8,
     "metadata": {},
     "output_type": "execute_result"
    },
    {
     "data": {
      "image/png": "[encoded data removed]",
      "text/plain": [
       "<Figure size 432x288 with 1 Axes>"
      ]
     },
     "metadata": {
      "needs_background": "light"
     },
     "output_type": "display_data"
    }
   ],
   "source": [
    "sns.histplot(x=\"feature1\", y=\"feature2\", data=data)"
   ]
  },
  {
   "cell_type": "code",
   "execution_count": 9,
   "id": "b5c72160",
   "metadata": {},
   "outputs": [
    {
     "data": {
      "text/plain": [
       "<AxesSubplot:xlabel='feature1', ylabel='feature2'>"
      ]
     },
     "execution_count": 9,
     "metadata": {},
     "output_type": "execute_result"
    },
    {
     "data": {
      "image/png": "[encoded data removed]",
      "text/plain": [
       "<Figure size 432x288 with 1 Axes>"
      ]
     },
     "metadata": {
      "needs_background": "light"
     },
     "output_type": "display_data"
    }
   ],
   "source": [
    "sns.scatterplot(x=\"feature1\", y=\"feature2\", hue=\"price\", data=data)"
   ]
  },
  {
   "cell_type": "code",
   "execution_count": 10,
   "id": "28cd1624",
   "metadata": {},
   "outputs": [
    {
     "data": {
      "text/plain": [
       "<AxesSubplot:>"
      ]
     },
     "execution_count": 10,
     "metadata": {},
     "output_type": "execute_result"
    },
    {
     "data": {
      "image/png": "[encoded data removed]",
      "text/plain": [
       "<Figure size 432x288 with 2 Axes>"
      ]
     },
     "metadata": {
      "needs_background": "light"
     },
     "output_type": "display_data"
    }
   ],
   "source": [
    "sns.heatmap(data.isnull())"
   ]
  },
  {
   "cell_type": "code",
   "execution_count": 11,
   "id": "b10ed81b",
   "metadata": {},
   "outputs": [],
   "source": [
    "from sklearn.model_selection import train_test_split\n",
    "\n",
    "X = data[[\"feature1\", \"feature2\"]].values"
   ]
  },
  {
   "cell_type": "code",
   "execution_count": 12,
   "id": "d81a1a50",
   "metadata": {},
   "outputs": [],
   "source": [
    "y = data[\"price\"].values"
   ]
  },
  {
   "cell_type": "code",
   "execution_count": 13,
   "id": "ecacdb51",
   "metadata": {},
   "outputs": [],
   "source": [
    "from sklearn.preprocessing import MinMaxScaler\n",
    "\n",
    "scalar = MinMaxScaler()"
   ]
  },
  {
   "cell_type": "code",
   "execution_count": 14,
   "id": "e4dc735e",
   "metadata": {},
   "outputs": [],
   "source": [
    "X_train, X_test, y_train, y_test = train_test_split(X, y, test_size=0.3, random_state=101)"
   ]
  },
  {
   "cell_type": "code",
   "execution_count": 15,
   "id": "80b749e2",
   "metadata": {},
   "outputs": [
    {
     "data": {
      "text/plain": [
       "MinMaxScaler()"
      ]
     },
     "execution_count": 15,
     "metadata": {},
     "output_type": "execute_result"
    }
   ],
   "source": [
    "scalar.fit(X_train)"
   ]
  },
  {
   "cell_type": "code",
   "execution_count": 16,
   "id": "6d2ada91",
   "metadata": {},
   "outputs": [],
   "source": [
    "X_train = scalar.transform(X_train)"
   ]
  },
  {
   "cell_type": "code",
   "execution_count": 17,
   "id": "3827c0c2",
   "metadata": {},
   "outputs": [
    {
     "data": {
      "text/plain": [
       "array([[0.22179862, 0.55212838],\n",
       "       [0.34106018, 0.45061693],\n",
       "       [0.44187649, 0.6432228 ],\n",
       "       ...,\n",
       "       [0.4679684 , 0.12119512],\n",
       "       [0.51313398, 0.51308096],\n",
       "       [0.51079305, 0.26371433]])"
      ]
     },
     "execution_count": 17,
     "metadata": {},
     "output_type": "execute_result"
    }
   ],
   "source": [
    "X_train"
   ]
  },
  {
   "cell_type": "code",
   "execution_count": 18,
   "id": "bd8efc1d",
   "metadata": {},
   "outputs": [],
   "source": [
    "X_test = scalar.transform(X_test)"
   ]
  },
  {
   "cell_type": "code",
   "execution_count": 19,
   "id": "fd7b370c",
   "metadata": {},
   "outputs": [],
   "source": [
    "# Creating a Kera Model\n",
    "\n",
    "import tensorflow as tf\n",
    "from tensorflow.keras.models import Sequential\n",
    "from tensorflow.keras.layers import Dense"
   ]
  },
  {
   "cell_type": "code",
   "execution_count": 20,
   "id": "02da99fa",
   "metadata": {},
   "outputs": [],
   "source": [
    "model = Sequential()"
   ]
  },
  {
   "cell_type": "code",
   "execution_count": 21,
   "id": "743d2fdf",
   "metadata": {},
   "outputs": [],
   "source": [
    "model.add(Dense(4, activation=\"relu\"))\n",
    "model.add(Dense(4, activation=\"relu\"))\n",
    "model.add(Dense(4, activation=\"relu\"))\n",
    "model.add(Dense(1))"
   ]
  },
  {
   "cell_type": "code",
   "execution_count": 22,
   "id": "6f3b3f8d",
   "metadata": {},
   "outputs": [
    {
     "data": {
      "text/plain": [
       "<keras.engine.sequential.Sequential at 0x22305514ac0>"
      ]
     },
     "execution_count": 22,
     "metadata": {},
     "output_type": "execute_result"
    }
   ],
   "source": [
    "model"
   ]
  },
  {
   "cell_type": "code",
   "execution_count": 23,
   "id": "a027c8e6",
   "metadata": {},
   "outputs": [],
   "source": [
    "model.compile(optimizer='rmsprop', loss='mse')"
   ]
  },
  {
   "cell_type": "code",
   "execution_count": 24,
   "id": "55fb59d7",
   "metadata": {},
   "outputs": [
    {
     "name": "stdout",
     "output_type": "stream",
     "text": [
      "Epoch 1/250\n",
      "22/22 [==============================] - 0s 854us/step - loss: 259067.3438\n",
      "Epoch 2/250\n",
      "22/22 [==============================] - 0s 855us/step - loss: 259006.4219\n",
      "Epoch 3/250\n",
      "22/22 [==============================] - 0s 855us/step - loss: 258943.9062\n",
      "Epoch 4/250\n",
      "22/22 [==============================] - 0s 879us/step - loss: 258875.7969\n",
      "Epoch 5/250\n",
      "22/22 [==============================] - 0s 950us/step - loss: 258800.9375\n",
      "Epoch 6/250\n",
      "22/22 [==============================] - 0s 760us/step - loss: 258718.8125\n",
      "Epoch 7/250\n",
      "22/22 [==============================] - 0s 760us/step - loss: 258628.6094\n",
      "Epoch 8/250\n",
      "22/22 [==============================] - 0s 773us/step - loss: 258529.8750\n",
      "Epoch 9/250\n",
      "22/22 [==============================] - 0s 785us/step - loss: 258421.9219\n",
      "Epoch 10/250\n",
      "22/22 [==============================] - 0s 807us/step - loss: 258304.3125\n",
      "Epoch 11/250\n",
      "22/22 [==============================] - 0s 840us/step - loss: 258176.0156\n",
      "Epoch 12/250\n",
      "22/22 [==============================] - 0s 714us/step - loss: 258036.5469\n",
      "Epoch 13/250\n",
      "22/22 [==============================] - 0s 696us/step - loss: 257885.5781\n",
      "Epoch 14/250\n",
      "22/22 [==============================] - 0s 908us/step - loss: 257721.1719\n",
      "Epoch 15/250\n",
      "22/22 [==============================] - 0s 966us/step - loss: 257544.1094\n",
      "Epoch 16/250\n",
      "22/22 [==============================] - 0s 785us/step - loss: 257353.0000\n",
      "Epoch 17/250\n",
      "22/22 [==============================] - 0s 810us/step - loss: 257146.7188\n",
      "Epoch 18/250\n",
      "22/22 [==============================] - 0s 742us/step - loss: 256924.7344\n",
      "Epoch 19/250\n",
      "22/22 [==============================] - 0s 737us/step - loss: 256687.0625\n",
      "Epoch 20/250\n",
      "22/22 [==============================] - 0s 712us/step - loss: 256430.1094\n",
      "Epoch 21/250\n",
      "22/22 [==============================] - 0s 760us/step - loss: 256154.7031\n",
      "Epoch 22/250\n",
      "22/22 [==============================] - 0s 807us/step - loss: 255862.5312\n",
      "Epoch 23/250\n",
      "22/22 [==============================] - 0s 760us/step - loss: 255548.1406\n",
      "Epoch 24/250\n",
      "22/22 [==============================] - 0s 807us/step - loss: 255213.3906\n",
      "Epoch 25/250\n",
      "22/22 [==============================] - 0s 737us/step - loss: 254855.6562\n",
      "Epoch 26/250\n",
      "22/22 [==============================] - 0s 712us/step - loss: 254475.6875\n",
      "Epoch 27/250\n",
      "22/22 [==============================] - 0s 712us/step - loss: 254072.0469\n",
      "Epoch 28/250\n",
      "22/22 [==============================] - 0s 807us/step - loss: 253643.3906\n",
      "Epoch 29/250\n",
      "22/22 [==============================] - 0s 712us/step - loss: 253188.9531\n",
      "Epoch 30/250\n",
      "22/22 [==============================] - 0s 713us/step - loss: 252706.5156\n",
      "Epoch 31/250\n",
      "22/22 [==============================] - 0s 760us/step - loss: 252195.6875\n",
      "Epoch 32/250\n",
      "22/22 [==============================] - 0s 735us/step - loss: 251654.2188\n",
      "Epoch 33/250\n",
      "22/22 [==============================] - 0s 862us/step - loss: 251082.7188\n",
      "Epoch 34/250\n",
      "22/22 [==============================] - 0s 1ms/step - loss: 250481.5312\n",
      "Epoch 35/250\n",
      "22/22 [==============================] - 0s 744us/step - loss: 249850.1562\n",
      "Epoch 36/250\n",
      "22/22 [==============================] - 0s 753us/step - loss: 249185.5781\n",
      "Epoch 37/250\n",
      "22/22 [==============================] - 0s 890us/step - loss: 248484.4844\n",
      "Epoch 38/250\n",
      "22/22 [==============================] - 0s 883us/step - loss: 247744.4531\n",
      "Epoch 39/250\n",
      "22/22 [==============================] - 0s 793us/step - loss: 246969.0312\n",
      "Epoch 40/250\n",
      "22/22 [==============================] - 0s 807us/step - loss: 246155.6094\n",
      "Epoch 41/250\n",
      "22/22 [==============================] - 0s 737us/step - loss: 245306.6250\n",
      "Epoch 42/250\n",
      "22/22 [==============================] - 0s 737us/step - loss: 244414.0156\n",
      "Epoch 43/250\n",
      "22/22 [==============================] - 0s 855us/step - loss: 243475.2031\n",
      "Epoch 44/250\n",
      "22/22 [==============================] - 0s 807us/step - loss: 242500.7344\n",
      "Epoch 45/250\n",
      "22/22 [==============================] - 0s 849us/step - loss: 241478.3594\n",
      "Epoch 46/250\n",
      "22/22 [==============================] - 0s 738us/step - loss: 240413.9219\n",
      "Epoch 47/250\n",
      "22/22 [==============================] - 0s 759us/step - loss: 239301.1719\n",
      "Epoch 48/250\n",
      "22/22 [==============================] - 0s 712us/step - loss: 238144.0156\n",
      "Epoch 49/250\n",
      "22/22 [==============================] - 0s 712us/step - loss: 236937.7344\n",
      "Epoch 50/250\n",
      "22/22 [==============================] - 0s 712us/step - loss: 235675.8438\n",
      "Epoch 51/250\n",
      "22/22 [==============================] - 0s 713us/step - loss: 234369.2188\n",
      "Epoch 52/250\n",
      "22/22 [==============================] - 0s 712us/step - loss: 233011.0781\n",
      "Epoch 53/250\n",
      "22/22 [==============================] - 0s 807us/step - loss: 231597.8750\n",
      "Epoch 54/250\n",
      "22/22 [==============================] - 0s 760us/step - loss: 230137.7344\n",
      "Epoch 55/250\n",
      "22/22 [==============================] - 0s 746us/step - loss: 228619.4688\n",
      "Epoch 56/250\n",
      "22/22 [==============================] - 0s 807us/step - loss: 227044.7969\n",
      "Epoch 57/250\n",
      "22/22 [==============================] - 0s 763us/step - loss: 225404.4062\n",
      "Epoch 58/250\n",
      "22/22 [==============================] - 0s 760us/step - loss: 223717.1406\n",
      "Epoch 59/250\n",
      "22/22 [==============================] - 0s 665us/step - loss: 221959.7500\n",
      "Epoch 60/250\n",
      "22/22 [==============================] - 0s 665us/step - loss: 220151.5156\n",
      "Epoch 61/250\n",
      "22/22 [==============================] - 0s 665us/step - loss: 218287.6406\n",
      "Epoch 62/250\n",
      "22/22 [==============================] - 0s 665us/step - loss: 216359.6562\n",
      "Epoch 63/250\n",
      "22/22 [==============================] - 0s 763us/step - loss: 214364.9844\n",
      "Epoch 64/250\n",
      "22/22 [==============================] - 0s 760us/step - loss: 212312.2031\n",
      "Epoch 65/250\n",
      "22/22 [==============================] - 0s 712us/step - loss: 210195.7656\n",
      "Epoch 66/250\n",
      "22/22 [==============================] - 0s 760us/step - loss: 208016.0469\n",
      "Epoch 67/250\n",
      "22/22 [==============================] - 0s 760us/step - loss: 205773.8750\n",
      "Epoch 68/250\n",
      "22/22 [==============================] - 0s 879us/step - loss: 203464.6562\n",
      "Epoch 69/250\n",
      "22/22 [==============================] - 0s 807us/step - loss: 201081.9844\n",
      "Epoch 70/250\n",
      "22/22 [==============================] - 0s 712us/step - loss: 198630.4844\n",
      "Epoch 71/250\n",
      "22/22 [==============================] - 0s 712us/step - loss: 196119.8125\n",
      "Epoch 72/250\n",
      "22/22 [==============================] - 0s 712us/step - loss: 193548.0156\n",
      "Epoch 73/250\n",
      "22/22 [==============================] - 0s 712us/step - loss: 190904.4062\n",
      "Epoch 74/250\n",
      "22/22 [==============================] - 0s 858us/step - loss: 188197.4375\n",
      "Epoch 75/250\n",
      "22/22 [==============================] - 0s 759us/step - loss: 185417.9375\n",
      "Epoch 76/250\n",
      "22/22 [==============================] - 0s 712us/step - loss: 182572.7188\n",
      "Epoch 77/250\n",
      "22/22 [==============================] - 0s 902us/step - loss: 179682.2031\n",
      "Epoch 78/250\n",
      "22/22 [==============================] - 0s 950us/step - loss: 176716.9531\n",
      "Epoch 79/250\n",
      "22/22 [==============================] - 0s 1ms/step - loss: 173683.1875\n",
      "Epoch 80/250\n",
      "22/22 [==============================] - 0s 807us/step - loss: 170565.9375\n",
      "Epoch 81/250\n",
      "22/22 [==============================] - 0s 713us/step - loss: 167408.1875\n",
      "Epoch 82/250\n",
      "22/22 [==============================] - 0s 665us/step - loss: 164189.8906\n",
      "Epoch 83/250\n",
      "22/22 [==============================] - 0s 712us/step - loss: 160908.4219\n",
      "Epoch 84/250\n",
      "22/22 [==============================] - 0s 689us/step - loss: 157545.7188\n",
      "Epoch 85/250\n",
      "22/22 [==============================] - 0s 712us/step - loss: 154135.6562\n",
      "Epoch 86/250\n",
      "22/22 [==============================] - 0s 855us/step - loss: 150662.9219\n",
      "Epoch 87/250\n",
      "22/22 [==============================] - 0s 855us/step - loss: 147150.9062\n",
      "Epoch 88/250\n",
      "22/22 [==============================] - 0s 950us/step - loss: 143567.1094\n",
      "Epoch 89/250\n",
      "22/22 [==============================] - 0s 879us/step - loss: 139938.0625\n",
      "Epoch 90/250\n",
      "22/22 [==============================] - 0s 855us/step - loss: 136256.8125\n",
      "Epoch 91/250\n",
      "22/22 [==============================] - 0s 735us/step - loss: 132525.2500\n",
      "Epoch 92/250\n",
      "22/22 [==============================] - 0s 840us/step - loss: 128745.6797\n",
      "Epoch 93/250\n",
      "22/22 [==============================] - 0s 789us/step - loss: 124920.7109\n",
      "Epoch 94/250\n"
     ]
    },
    {
     "name": "stdout",
     "output_type": "stream",
     "text": [
      "22/22 [==============================] - 0s 736us/step - loss: 121069.7969\n",
      "Epoch 95/250\n",
      "22/22 [==============================] - 0s 712us/step - loss: 117152.7188\n",
      "Epoch 96/250\n",
      "22/22 [==============================] - 0s 902us/step - loss: 113231.4141\n",
      "Epoch 97/250\n",
      "22/22 [==============================] - 0s 950us/step - loss: 109277.6797\n",
      "Epoch 98/250\n",
      "22/22 [==============================] - 0s 903us/step - loss: 105295.7266\n",
      "Epoch 99/250\n",
      "22/22 [==============================] - 0s 725us/step - loss: 101279.3594\n",
      "Epoch 100/250\n",
      "22/22 [==============================] - 0s 733us/step - loss: 97263.5625\n",
      "Epoch 101/250\n",
      "22/22 [==============================] - 0s 695us/step - loss: 93217.6641\n",
      "Epoch 102/250\n",
      "22/22 [==============================] - 0s 679us/step - loss: 89175.4766\n",
      "Epoch 103/250\n",
      "22/22 [==============================] - 0s 689us/step - loss: 85142.4766\n",
      "Epoch 104/250\n",
      "22/22 [==============================] - 0s 714us/step - loss: 81098.2656\n",
      "Epoch 105/250\n",
      "22/22 [==============================] - 0s 739us/step - loss: 77061.7578\n",
      "Epoch 106/250\n",
      "22/22 [==============================] - 0s 665us/step - loss: 73055.2031\n",
      "Epoch 107/250\n",
      "22/22 [==============================] - 0s 760us/step - loss: 69051.5938\n",
      "Epoch 108/250\n",
      "22/22 [==============================] - 0s 807us/step - loss: 65078.0898\n",
      "Epoch 109/250\n",
      "22/22 [==============================] - 0s 714us/step - loss: 61144.5781\n",
      "Epoch 110/250\n",
      "22/22 [==============================] - 0s 731us/step - loss: 57269.8906\n",
      "Epoch 111/250\n",
      "22/22 [==============================] - 0s 808us/step - loss: 53423.9766\n",
      "Epoch 112/250\n",
      "22/22 [==============================] - 0s 896us/step - loss: 49639.9531\n",
      "Epoch 113/250\n",
      "22/22 [==============================] - 0s 683us/step - loss: 45922.2422\n",
      "Epoch 114/250\n",
      "22/22 [==============================] - 0s 750us/step - loss: 42281.4961\n",
      "Epoch 115/250\n",
      "22/22 [==============================] - 0s 713us/step - loss: 38737.7852\n",
      "Epoch 116/250\n",
      "22/22 [==============================] - 0s 689us/step - loss: 35268.4688\n",
      "Epoch 117/250\n",
      "22/22 [==============================] - 0s 712us/step - loss: 31909.7695\n",
      "Epoch 118/250\n",
      "22/22 [==============================] - 0s 712us/step - loss: 28704.7266\n",
      "Epoch 119/250\n",
      "22/22 [==============================] - 0s 665us/step - loss: 25598.7207\n",
      "Epoch 120/250\n",
      "22/22 [==============================] - 0s 761us/step - loss: 22616.4062\n",
      "Epoch 121/250\n",
      "22/22 [==============================] - 0s 713us/step - loss: 19805.9727\n",
      "Epoch 122/250\n",
      "22/22 [==============================] - 0s 808us/step - loss: 17141.9980\n",
      "Epoch 123/250\n",
      "22/22 [==============================] - 0s 855us/step - loss: 14659.5674\n",
      "Epoch 124/250\n",
      "22/22 [==============================] - 0s 760us/step - loss: 12372.7090\n",
      "Epoch 125/250\n",
      "22/22 [==============================] - 0s 712us/step - loss: 10295.7412\n",
      "Epoch 126/250\n",
      "22/22 [==============================] - 0s 712us/step - loss: 8417.7080\n",
      "Epoch 127/250\n",
      "22/22 [==============================] - 0s 689us/step - loss: 6766.3628\n",
      "Epoch 128/250\n",
      "22/22 [==============================] - 0s 665us/step - loss: 5361.8687\n",
      "Epoch 129/250\n",
      "22/22 [==============================] - 0s 665us/step - loss: 4207.3125\n",
      "Epoch 130/250\n",
      "22/22 [==============================] - 0s 712us/step - loss: 3293.5940\n",
      "Epoch 131/250\n",
      "22/22 [==============================] - 0s 855us/step - loss: 2639.3667\n",
      "Epoch 132/250\n",
      "22/22 [==============================] - 0s 832us/step - loss: 2237.4678\n",
      "Epoch 133/250\n",
      "22/22 [==============================] - 0s 807us/step - loss: 2059.9419\n",
      "Epoch 134/250\n",
      "22/22 [==============================] - 0s 712us/step - loss: 2000.3359\n",
      "Epoch 135/250\n",
      "22/22 [==============================] - 0s 712us/step - loss: 1978.8195\n",
      "Epoch 136/250\n",
      "22/22 [==============================] - 0s 712us/step - loss: 1959.1285\n",
      "Epoch 137/250\n",
      "22/22 [==============================] - 0s 760us/step - loss: 1937.3961\n",
      "Epoch 138/250\n",
      "22/22 [==============================] - 0s 737us/step - loss: 1918.4015\n",
      "Epoch 139/250\n",
      "22/22 [==============================] - 0s 760us/step - loss: 1900.3676\n",
      "Epoch 140/250\n",
      "22/22 [==============================] - 0s 744us/step - loss: 1878.9832\n",
      "Epoch 141/250\n",
      "22/22 [==============================] - 0s 788us/step - loss: 1860.9899\n",
      "Epoch 142/250\n",
      "22/22 [==============================] - 0s 697us/step - loss: 1840.3615\n",
      "Epoch 143/250\n",
      "22/22 [==============================] - 0s 715us/step - loss: 1823.2925\n",
      "Epoch 144/250\n",
      "22/22 [==============================] - 0s 683us/step - loss: 1807.2914\n",
      "Epoch 145/250\n",
      "22/22 [==============================] - 0s 693us/step - loss: 1787.2146\n",
      "Epoch 146/250\n",
      "22/22 [==============================] - 0s 880us/step - loss: 1770.3608\n",
      "Epoch 147/250\n",
      "22/22 [==============================] - 0s 869us/step - loss: 1751.5178\n",
      "Epoch 148/250\n",
      "22/22 [==============================] - 0s 808us/step - loss: 1733.1876\n",
      "Epoch 149/250\n",
      "22/22 [==============================] - 0s 724us/step - loss: 1714.1998\n",
      "Epoch 150/250\n",
      "22/22 [==============================] - 0s 730us/step - loss: 1698.0903\n",
      "Epoch 151/250\n",
      "22/22 [==============================] - 0s 731us/step - loss: 1681.3522\n",
      "Epoch 152/250\n",
      "22/22 [==============================] - 0s 698us/step - loss: 1664.7565\n",
      "Epoch 153/250\n",
      "22/22 [==============================] - 0s 707us/step - loss: 1647.1243\n",
      "Epoch 154/250\n",
      "22/22 [==============================] - 0s 722us/step - loss: 1629.5591\n",
      "Epoch 155/250\n",
      "22/22 [==============================] - 0s 775us/step - loss: 1611.5437\n",
      "Epoch 156/250\n",
      "22/22 [==============================] - 0s 783us/step - loss: 1591.2430\n",
      "Epoch 157/250\n",
      "22/22 [==============================] - 0s 694us/step - loss: 1572.9629\n",
      "Epoch 158/250\n",
      "22/22 [==============================] - 0s 680us/step - loss: 1558.3442\n",
      "Epoch 159/250\n",
      "22/22 [==============================] - 0s 690us/step - loss: 1538.4972\n",
      "Epoch 160/250\n",
      "22/22 [==============================] - 0s 689us/step - loss: 1521.6930\n",
      "Epoch 161/250\n",
      "22/22 [==============================] - 0s 712us/step - loss: 1504.0544\n",
      "Epoch 162/250\n",
      "22/22 [==============================] - 0s 819us/step - loss: 1486.6335\n",
      "Epoch 163/250\n",
      "22/22 [==============================] - 0s 807us/step - loss: 1466.8990\n",
      "Epoch 164/250\n",
      "22/22 [==============================] - 0s 817us/step - loss: 1449.6305\n",
      "Epoch 165/250\n",
      "22/22 [==============================] - 0s 712us/step - loss: 1432.2219\n",
      "Epoch 166/250\n",
      "22/22 [==============================] - 0s 722us/step - loss: 1414.2057\n",
      "Epoch 167/250\n",
      "22/22 [==============================] - 0s 760us/step - loss: 1395.5350\n",
      "Epoch 168/250\n",
      "22/22 [==============================] - 0s 712us/step - loss: 1376.6067\n",
      "Epoch 169/250\n",
      "22/22 [==============================] - 0s 712us/step - loss: 1359.8083\n",
      "Epoch 170/250\n",
      "22/22 [==============================] - 0s 782us/step - loss: 1340.5537\n",
      "Epoch 171/250\n",
      "22/22 [==============================] - 0s 737us/step - loss: 1325.6823\n",
      "Epoch 172/250\n",
      "22/22 [==============================] - 0s 712us/step - loss: 1309.2761\n",
      "Epoch 173/250\n",
      "22/22 [==============================] - 0s 807us/step - loss: 1289.5687\n",
      "Epoch 174/250\n",
      "22/22 [==============================] - 0s 712us/step - loss: 1272.2889\n",
      "Epoch 175/250\n",
      "22/22 [==============================] - 0s 855us/step - loss: 1254.6691\n",
      "Epoch 176/250\n",
      "22/22 [==============================] - 0s 713us/step - loss: 1236.3621\n",
      "Epoch 177/250\n",
      "22/22 [==============================] - 0s 784us/step - loss: 1217.4048\n",
      "Epoch 178/250\n",
      "22/22 [==============================] - 0s 807us/step - loss: 1198.9004\n",
      "Epoch 179/250\n",
      "22/22 [==============================] - 0s 760us/step - loss: 1180.8932\n",
      "Epoch 180/250\n",
      "22/22 [==============================] - 0s 823us/step - loss: 1163.7443\n",
      "Epoch 181/250\n",
      "22/22 [==============================] - 0s 665us/step - loss: 1146.5439\n",
      "Epoch 182/250\n",
      "22/22 [==============================] - 0s 717us/step - loss: 1132.5906\n",
      "Epoch 183/250\n",
      "22/22 [==============================] - 0s 712us/step - loss: 1114.2675\n",
      "Epoch 184/250\n",
      "22/22 [==============================] - 0s 807us/step - loss: 1097.1130\n",
      "Epoch 185/250\n",
      "22/22 [==============================] - 0s 794us/step - loss: 1081.1859\n",
      "Epoch 186/250\n",
      "22/22 [==============================] - 0s 804us/step - loss: 1065.7976\n",
      "Epoch 187/250\n",
      "22/22 [==============================] - 0s 832us/step - loss: 1046.9890\n"
     ]
    },
    {
     "name": "stdout",
     "output_type": "stream",
     "text": [
      "Epoch 188/250\n",
      "22/22 [==============================] - 0s 760us/step - loss: 1031.4061\n",
      "Epoch 189/250\n",
      "22/22 [==============================] - 0s 712us/step - loss: 1014.6675\n",
      "Epoch 190/250\n",
      "22/22 [==============================] - 0s 712us/step - loss: 998.7056\n",
      "Epoch 191/250\n",
      "22/22 [==============================] - 0s 712us/step - loss: 982.7238\n",
      "Epoch 192/250\n",
      "22/22 [==============================] - 0s 713us/step - loss: 967.1929\n",
      "Epoch 193/250\n",
      "22/22 [==============================] - 0s 781us/step - loss: 953.1208\n",
      "Epoch 194/250\n",
      "22/22 [==============================] - 0s 750us/step - loss: 938.5823\n",
      "Epoch 195/250\n",
      "22/22 [==============================] - 0s 726us/step - loss: 924.3547\n",
      "Epoch 196/250\n",
      "22/22 [==============================] - 0s 756us/step - loss: 911.2359\n",
      "Epoch 197/250\n",
      "22/22 [==============================] - 0s 712us/step - loss: 894.6239\n",
      "Epoch 198/250\n",
      "22/22 [==============================] - 0s 665us/step - loss: 878.4510\n",
      "Epoch 199/250\n",
      "22/22 [==============================] - 0s 771us/step - loss: 861.8480\n",
      "Epoch 200/250\n",
      "22/22 [==============================] - 0s 760us/step - loss: 846.3204\n",
      "Epoch 201/250\n",
      "22/22 [==============================] - 0s 712us/step - loss: 830.3259\n",
      "Epoch 202/250\n",
      "22/22 [==============================] - 0s 760us/step - loss: 813.6619\n",
      "Epoch 203/250\n",
      "22/22 [==============================] - 0s 808us/step - loss: 795.6622\n",
      "Epoch 204/250\n",
      "22/22 [==============================] - 0s 1ms/step - loss: 784.0342\n",
      "Epoch 205/250\n",
      "22/22 [==============================] - 0s 1ms/step - loss: 767.0186\n",
      "Epoch 206/250\n",
      "22/22 [==============================] - 0s 712us/step - loss: 753.4942\n",
      "Epoch 207/250\n",
      "22/22 [==============================] - 0s 760us/step - loss: 738.4252\n",
      "Epoch 208/250\n",
      "22/22 [==============================] - 0s 665us/step - loss: 725.1712\n",
      "Epoch 209/250\n",
      "22/22 [==============================] - 0s 689us/step - loss: 712.2650\n",
      "Epoch 210/250\n",
      "22/22 [==============================] - 0s 712us/step - loss: 697.4899\n",
      "Epoch 211/250\n",
      "22/22 [==============================] - 0s 712us/step - loss: 684.0048\n",
      "Epoch 212/250\n",
      "22/22 [==============================] - 0s 760us/step - loss: 670.3668\n",
      "Epoch 213/250\n",
      "22/22 [==============================] - 0s 712us/step - loss: 657.8479\n",
      "Epoch 214/250\n",
      "22/22 [==============================] - 0s 665us/step - loss: 644.3203\n",
      "Epoch 215/250\n",
      "22/22 [==============================] - 0s 784us/step - loss: 630.1855\n",
      "Epoch 216/250\n",
      "22/22 [==============================] - 0s 1ms/step - loss: 617.6503\n",
      "Epoch 217/250\n",
      "22/22 [==============================] - 0s 712us/step - loss: 604.2913\n",
      "Epoch 218/250\n",
      "22/22 [==============================] - 0s 712us/step - loss: 591.7740\n",
      "Epoch 219/250\n",
      "22/22 [==============================] - 0s 760us/step - loss: 576.9128\n",
      "Epoch 220/250\n",
      "22/22 [==============================] - 0s 974us/step - loss: 565.1343\n",
      "Epoch 221/250\n",
      "22/22 [==============================] - 0s 855us/step - loss: 552.2303\n",
      "Epoch 222/250\n",
      "22/22 [==============================] - 0s 807us/step - loss: 539.3221\n",
      "Epoch 223/250\n",
      "22/22 [==============================] - 0s 760us/step - loss: 525.8575\n",
      "Epoch 224/250\n",
      "22/22 [==============================] - 0s 760us/step - loss: 513.5760\n",
      "Epoch 225/250\n",
      "22/22 [==============================] - 0s 689us/step - loss: 500.0060\n",
      "Epoch 226/250\n",
      "22/22 [==============================] - 0s 685us/step - loss: 487.7004\n",
      "Epoch 227/250\n",
      "22/22 [==============================] - 0s 702us/step - loss: 474.7119\n",
      "Epoch 228/250\n",
      "22/22 [==============================] - 0s 656us/step - loss: 462.3953\n",
      "Epoch 229/250\n",
      "22/22 [==============================] - 0s 678us/step - loss: 448.6985\n",
      "Epoch 230/250\n",
      "22/22 [==============================] - 0s 679us/step - loss: 438.5464\n",
      "Epoch 231/250\n",
      "22/22 [==============================] - 0s 856us/step - loss: 426.5601\n",
      "Epoch 232/250\n",
      "22/22 [==============================] - 0s 712us/step - loss: 413.6723\n",
      "Epoch 233/250\n",
      "22/22 [==============================] - 0s 855us/step - loss: 403.2885\n",
      "Epoch 234/250\n",
      "22/22 [==============================] - 0s 776us/step - loss: 392.8556\n",
      "Epoch 235/250\n",
      "22/22 [==============================] - 0s 762us/step - loss: 382.1991\n",
      "Epoch 236/250\n",
      "22/22 [==============================] - 0s 689us/step - loss: 371.2999\n",
      "Epoch 237/250\n",
      "22/22 [==============================] - 0s 742us/step - loss: 360.6774\n",
      "Epoch 238/250\n",
      "22/22 [==============================] - 0s 805us/step - loss: 350.9154\n",
      "Epoch 239/250\n",
      "22/22 [==============================] - 0s 760us/step - loss: 340.9405\n",
      "Epoch 240/250\n",
      "22/22 [==============================] - 0s 712us/step - loss: 330.7042\n",
      "Epoch 241/250\n",
      "22/22 [==============================] - 0s 745us/step - loss: 318.9466\n",
      "Epoch 242/250\n",
      "22/22 [==============================] - 0s 680us/step - loss: 307.9344\n",
      "Epoch 243/250\n",
      "22/22 [==============================] - 0s 713us/step - loss: 300.3563\n",
      "Epoch 244/250\n",
      "22/22 [==============================] - 0s 728us/step - loss: 290.6032\n",
      "Epoch 245/250\n",
      "22/22 [==============================] - 0s 760us/step - loss: 281.9114\n",
      "Epoch 246/250\n",
      "22/22 [==============================] - 0s 855us/step - loss: 272.2703\n",
      "Epoch 247/250\n",
      "22/22 [==============================] - 0s 737us/step - loss: 262.3413\n",
      "Epoch 248/250\n",
      "22/22 [==============================] - 0s 760us/step - loss: 254.0522\n",
      "Epoch 249/250\n",
      "22/22 [==============================] - 0s 760us/step - loss: 244.6998\n",
      "Epoch 250/250\n",
      "22/22 [==============================] - 0s 760us/step - loss: 236.3882\n"
     ]
    },
    {
     "data": {
      "text/plain": [
       "<keras.callbacks.History at 0x2230c1dad00>"
      ]
     },
     "execution_count": 24,
     "metadata": {},
     "output_type": "execute_result"
    }
   ],
   "source": [
    "model.fit(X_train, y_train, epochs=250)"
   ]
  },
  {
   "cell_type": "code",
   "execution_count": 25,
   "id": "0a475ad2",
   "metadata": {},
   "outputs": [],
   "source": [
    "loss = model.history.history['loss']"
   ]
  },
  {
   "cell_type": "code",
   "execution_count": 26,
   "id": "4709c1fa",
   "metadata": {},
   "outputs": [
    {
     "data": {
      "text/plain": [
       "Text(0.5, 1.0, 'Training loss per Epoch')"
      ]
     },
     "execution_count": 26,
     "metadata": {},
     "output_type": "execute_result"
    },
    {
     "data": {
      "image/png": "[encoded data removed]",
      "text/plain": [
       "<Figure size 432x288 with 1 Axes>"
      ]
     },
     "metadata": {
      "needs_background": "light"
     },
     "output_type": "display_data"
    }
   ],
   "source": [
    "sns.lineplot(x=range(len(loss)), y=loss)\n",
    "plt.title(\"Training loss per Epoch\")"
   ]
  },
  {
   "cell_type": "code",
   "execution_count": 27,
   "id": "676ea38b",
   "metadata": {},
   "outputs": [
    {
     "data": {
      "text/plain": [
       "['loss']"
      ]
     },
     "execution_count": 27,
     "metadata": {},
     "output_type": "execute_result"
    }
   ],
   "source": [
    "model.metrics_names"
   ]
  },
  {
   "cell_type": "code",
   "execution_count": 28,
   "id": "7c122b3d",
   "metadata": {},
   "outputs": [
    {
     "name": "stdout",
     "output_type": "stream",
     "text": [
      "22/22 [==============================] - 0s 712us/step - loss: 230.9431\n"
     ]
    }
   ],
   "source": [
    "training_score = model.evaluate(X_train, y_train, verbose=1)"
   ]
  },
  {
   "cell_type": "code",
   "execution_count": 29,
   "id": "985ef7aa",
   "metadata": {},
   "outputs": [
    {
     "name": "stdout",
     "output_type": "stream",
     "text": [
      "10/10 [==============================] - 0s 942us/step - loss: 248.2385\n"
     ]
    }
   ],
   "source": [
    "test_score = model.evaluate(X_test, y_test)"
   ]
  },
  {
   "cell_type": "code",
   "execution_count": 30,
   "id": "75756f87",
   "metadata": {},
   "outputs": [
    {
     "name": "stdout",
     "output_type": "stream",
     "text": [
      "10/10 [==============================] - 0s 665us/step\n"
     ]
    }
   ],
   "source": [
    "y_pred = model.predict(X_test)"
   ]
  },
  {
   "cell_type": "code",
   "execution_count": 31,
   "id": "09417c27",
   "metadata": {},
   "outputs": [
    {
     "data": {
      "text/plain": [
       "array([[629.8559 ],\n",
       "       [515.6656 ],\n",
       "       [516.04193],\n",
       "       [488.98483],\n",
       "       [535.7028 ],\n",
       "       [551.2728 ],\n",
       "       [590.58606],\n",
       "       [611.3499 ],\n",
       "       [584.5672 ],\n",
       "       [547.7387 ],\n",
       "       [432.9583 ],\n",
       "       [478.41495],\n",
       "       [458.08194],\n",
       "       [488.05286],\n",
       "       [494.66742],\n",
       "       [558.3181 ],\n",
       "       [389.81223],\n",
       "       [503.24167],\n",
       "       [567.37384],\n",
       "       [527.66187],\n",
       "       [477.78088],\n",
       "       [369.3429 ],\n",
       "       [487.19766],\n",
       "       [529.1938 ],\n",
       "       [576.5849 ],\n",
       "       [542.5704 ],\n",
       "       [389.10776],\n",
       "       [544.80743],\n",
       "       [623.7563 ],\n",
       "       [508.36423],\n",
       "       [556.7256 ],\n",
       "       [489.74326],\n",
       "       [547.8957 ],\n",
       "       [672.1296 ],\n",
       "       [400.6342 ],\n",
       "       [444.19424],\n",
       "       [470.10324],\n",
       "       [441.70346],\n",
       "       [402.93692],\n",
       "       [549.3338 ],\n",
       "       [358.69333],\n",
       "       [598.82294],\n",
       "       [599.39813],\n",
       "       [521.5133 ],\n",
       "       [568.3448 ],\n",
       "       [489.03195],\n",
       "       [467.0233 ],\n",
       "       [425.65564],\n",
       "       [515.1187 ],\n",
       "       [611.01483],\n",
       "       [484.47876],\n",
       "       [509.6487 ],\n",
       "       [611.9594 ],\n",
       "       [439.32336],\n",
       "       [432.71567],\n",
       "       [566.8111 ],\n",
       "       [388.90408],\n",
       "       [495.56088],\n",
       "       [513.1219 ],\n",
       "       [631.45135],\n",
       "       [520.3376 ],\n",
       "       [327.9363 ],\n",
       "       [353.868  ],\n",
       "       [431.83514],\n",
       "       [544.5865 ],\n",
       "       [555.05054],\n",
       "       [489.96317],\n",
       "       [495.91174],\n",
       "       [620.7536 ],\n",
       "       [414.5319 ],\n",
       "       [450.32184],\n",
       "       [509.2999 ],\n",
       "       [516.0523 ],\n",
       "       [625.3459 ],\n",
       "       [527.1618 ],\n",
       "       [524.8399 ],\n",
       "       [491.8934 ],\n",
       "       [416.003  ],\n",
       "       [476.48917],\n",
       "       [450.22977],\n",
       "       [504.73022],\n",
       "       [420.70218],\n",
       "       [573.46375],\n",
       "       [467.02835],\n",
       "       [527.7588 ],\n",
       "       [607.595  ],\n",
       "       [417.37643],\n",
       "       [446.25162],\n",
       "       [578.68866],\n",
       "       [379.53748],\n",
       "       [415.4708 ],\n",
       "       [554.8729 ],\n",
       "       [504.6898 ],\n",
       "       [505.36392],\n",
       "       [480.15247],\n",
       "       [485.04553],\n",
       "       [524.15686],\n",
       "       [586.3178 ],\n",
       "       [457.06888],\n",
       "       [502.16385],\n",
       "       [636.8759 ],\n",
       "       [355.12497],\n",
       "       [528.58466],\n",
       "       [643.7839 ],\n",
       "       [506.34134],\n",
       "       [544.1021 ],\n",
       "       [427.5533 ],\n",
       "       [622.57306],\n",
       "       [281.147  ],\n",
       "       [594.64667],\n",
       "       [421.82968],\n",
       "       [556.85583],\n",
       "       [529.7609 ],\n",
       "       [514.5745 ],\n",
       "       [418.70975],\n",
       "       [731.1183 ],\n",
       "       [451.80255],\n",
       "       [391.16275],\n",
       "       [479.3769 ],\n",
       "       [513.80536],\n",
       "       [312.76553],\n",
       "       [505.67157],\n",
       "       [388.34146],\n",
       "       [551.7224 ],\n",
       "       [531.5325 ],\n",
       "       [503.01028],\n",
       "       [495.2009 ],\n",
       "       [350.3477 ],\n",
       "       [494.902  ],\n",
       "       [617.5986 ],\n",
       "       [384.44827],\n",
       "       [566.3131 ],\n",
       "       [472.59714],\n",
       "       [511.2056 ],\n",
       "       [390.2164 ],\n",
       "       [586.74927],\n",
       "       [493.51175],\n",
       "       [539.96826],\n",
       "       [559.9375 ],\n",
       "       [350.4919 ],\n",
       "       [514.69354],\n",
       "       [514.89996],\n",
       "       [486.46457],\n",
       "       [499.54715],\n",
       "       [684.8322 ],\n",
       "       [355.73032],\n",
       "       [621.22577],\n",
       "       [448.89127],\n",
       "       [350.53897],\n",
       "       [546.3598 ],\n",
       "       [504.10333],\n",
       "       [450.47623],\n",
       "       [544.21344],\n",
       "       [533.1257 ],\n",
       "       [625.0014 ],\n",
       "       [524.377  ],\n",
       "       [570.6606 ],\n",
       "       [434.001  ],\n",
       "       [551.56415],\n",
       "       [557.7945 ],\n",
       "       [489.27286],\n",
       "       [291.4299 ],\n",
       "       [470.6052 ],\n",
       "       [462.45047],\n",
       "       [449.68985],\n",
       "       [467.2712 ],\n",
       "       [381.254  ],\n",
       "       [578.80695],\n",
       "       [593.73517],\n",
       "       [506.48398],\n",
       "       [544.97656],\n",
       "       [590.96954],\n",
       "       [479.4032 ],\n",
       "       [433.56308],\n",
       "       [542.2809 ],\n",
       "       [388.8151 ],\n",
       "       [572.0336 ],\n",
       "       [519.86804],\n",
       "       [365.94052],\n",
       "       [453.30502],\n",
       "       [524.8571 ],\n",
       "       [393.6565 ],\n",
       "       [537.04346],\n",
       "       [458.9144 ],\n",
       "       [622.2436 ],\n",
       "       [516.68494],\n",
       "       [398.61975],\n",
       "       [413.8588 ],\n",
       "       [512.13403],\n",
       "       [510.41318],\n",
       "       [581.0465 ],\n",
       "       [335.8317 ],\n",
       "       [599.7852 ],\n",
       "       [491.9271 ],\n",
       "       [622.79156],\n",
       "       [494.84464],\n",
       "       [404.4518 ],\n",
       "       [525.7338 ],\n",
       "       [372.38058],\n",
       "       [510.35495],\n",
       "       [437.43637],\n",
       "       [447.77698],\n",
       "       [502.32675],\n",
       "       [568.21387],\n",
       "       [489.84665],\n",
       "       [505.68146],\n",
       "       [552.6256 ],\n",
       "       [618.68225],\n",
       "       [340.23087],\n",
       "       [472.72495],\n",
       "       [616.363  ],\n",
       "       [438.54172],\n",
       "       [450.38657],\n",
       "       [676.8215 ],\n",
       "       [469.76624],\n",
       "       [521.13196],\n",
       "       [390.43576],\n",
       "       [476.8954 ],\n",
       "       [436.35492],\n",
       "       [565.9544 ],\n",
       "       [478.22336],\n",
       "       [582.9202 ],\n",
       "       [347.4041 ],\n",
       "       [653.81366],\n",
       "       [423.48215],\n",
       "       [567.38794],\n",
       "       [560.7674 ],\n",
       "       [467.62546],\n",
       "       [544.37006],\n",
       "       [609.6005 ],\n",
       "       [455.02505],\n",
       "       [449.7415 ],\n",
       "       [730.7922 ],\n",
       "       [454.20532],\n",
       "       [512.1228 ],\n",
       "       [370.46915],\n",
       "       [514.2088 ],\n",
       "       [462.1678 ],\n",
       "       [454.7117 ],\n",
       "       [415.08   ],\n",
       "       [546.13446],\n",
       "       [518.54596],\n",
       "       [593.7977 ],\n",
       "       [458.82065],\n",
       "       [481.93808],\n",
       "       [542.57086],\n",
       "       [392.14148],\n",
       "       [602.91785],\n",
       "       [375.7313 ],\n",
       "       [595.98785],\n",
       "       [504.361  ],\n",
       "       [535.83704],\n",
       "       [519.13074],\n",
       "       [536.4267 ],\n",
       "       [507.24167],\n",
       "       [378.54666],\n",
       "       [483.25357],\n",
       "       [468.17578],\n",
       "       [574.90564],\n",
       "       [538.483  ],\n",
       "       [457.73544],\n",
       "       [392.76715],\n",
       "       [397.90146],\n",
       "       [443.08115],\n",
       "       [293.97543],\n",
       "       [483.06085],\n",
       "       [570.4798 ],\n",
       "       [421.79947],\n",
       "       [508.2562 ],\n",
       "       [538.0701 ],\n",
       "       [429.66595],\n",
       "       [534.90967],\n",
       "       [621.6077 ],\n",
       "       [588.66254],\n",
       "       [475.1754 ],\n",
       "       [378.99356],\n",
       "       [498.8466 ],\n",
       "       [562.7835 ],\n",
       "       [450.40903],\n",
       "       [457.42026],\n",
       "       [499.87256],\n",
       "       [337.29642],\n",
       "       [467.91205],\n",
       "       [315.58725],\n",
       "       [632.84454],\n",
       "       [430.82468],\n",
       "       [387.23856],\n",
       "       [435.76364],\n",
       "       [408.70987],\n",
       "       [422.30753],\n",
       "       [434.34012],\n",
       "       [492.9571 ],\n",
       "       [553.9587 ],\n",
       "       [638.42035],\n",
       "       [454.9202 ],\n",
       "       [390.66492],\n",
       "       [619.7054 ],\n",
       "       [414.1308 ],\n",
       "       [571.5808 ],\n",
       "       [508.40256]], dtype=float32)"
      ]
     },
     "execution_count": 31,
     "metadata": {},
     "output_type": "execute_result"
    }
   ],
   "source": [
    "y_pred"
   ]
  },
  {
   "cell_type": "code",
   "execution_count": 32,
   "id": "3f47a332",
   "metadata": {},
   "outputs": [],
   "source": [
    "y_pred_df = pd.DataFrame(y_pred, columns=[\"Test Y\"])"
   ]
  },
  {
   "cell_type": "code",
   "execution_count": 33,
   "id": "659dba42",
   "metadata": {},
   "outputs": [
    {
     "data": {
      "text/html": [
       "<div>\n",
       "<style scoped>\n",
       "    .dataframe tbody tr th:only-of-type {\n",
       "        vertical-align: middle;\n",
       "    }\n",
       "\n",
       "    .dataframe tbody tr th {\n",
       "        vertical-align: top;\n",
       "    }\n",
       "\n",
       "    .dataframe thead th {\n",
       "        text-align: right;\n",
       "    }\n",
       "</style>\n",
       "<table border=\"1\" class=\"dataframe\">\n",
       "  <thead>\n",
       "    <tr style=\"text-align: right;\">\n",
       "      <th></th>\n",
       "      <th>Test Y</th>\n",
       "    </tr>\n",
       "  </thead>\n",
       "  <tbody>\n",
       "    <tr>\n",
       "      <th>0</th>\n",
       "      <td>629.855896</td>\n",
       "    </tr>\n",
       "    <tr>\n",
       "      <th>1</th>\n",
       "      <td>515.665588</td>\n",
       "    </tr>\n",
       "    <tr>\n",
       "      <th>2</th>\n",
       "      <td>516.041931</td>\n",
       "    </tr>\n",
       "    <tr>\n",
       "      <th>3</th>\n",
       "      <td>488.984833</td>\n",
       "    </tr>\n",
       "    <tr>\n",
       "      <th>4</th>\n",
       "      <td>535.702820</td>\n",
       "    </tr>\n",
       "    <tr>\n",
       "      <th>...</th>\n",
       "      <td>...</td>\n",
       "    </tr>\n",
       "    <tr>\n",
       "      <th>295</th>\n",
       "      <td>390.664917</td>\n",
       "    </tr>\n",
       "    <tr>\n",
       "      <th>296</th>\n",
       "      <td>619.705383</td>\n",
       "    </tr>\n",
       "    <tr>\n",
       "      <th>297</th>\n",
       "      <td>414.130798</td>\n",
       "    </tr>\n",
       "    <tr>\n",
       "      <th>298</th>\n",
       "      <td>571.580811</td>\n",
       "    </tr>\n",
       "    <tr>\n",
       "      <th>299</th>\n",
       "      <td>508.402557</td>\n",
       "    </tr>\n",
       "  </tbody>\n",
       "</table>\n",
       "<p>300 rows × 1 columns</p>\n",
       "</div>"
      ],
      "text/plain": [
       "         Test Y\n",
       "0    629.855896\n",
       "1    515.665588\n",
       "2    516.041931\n",
       "3    488.984833\n",
       "4    535.702820\n",
       "..          ...\n",
       "295  390.664917\n",
       "296  619.705383\n",
       "297  414.130798\n",
       "298  571.580811\n",
       "299  508.402557\n",
       "\n",
       "[300 rows x 1 columns]"
      ]
     },
     "execution_count": 33,
     "metadata": {},
     "output_type": "execute_result"
    }
   ],
   "source": [
    "y_pred_df"
   ]
  },
  {
   "cell_type": "code",
   "execution_count": null,
   "id": "ad90a22f",
   "metadata": {},
   "outputs": [],
   "source": [
    "sns.scatterplot(x="
   ]
  },
  {
   "cell_type": "code",
   "execution_count": 34,
   "id": "40eecbd5",
   "metadata": {},
   "outputs": [],
   "source": [
    "test_predictions = pd.Series(y_pred.reshape(300,))"
   ]
  },
  {
   "cell_type": "code",
   "execution_count": 35,
   "id": "e3b9a164",
   "metadata": {},
   "outputs": [
    {
     "data": {
      "text/plain": [
       "0      629.855896\n",
       "1      515.665588\n",
       "2      516.041931\n",
       "3      488.984833\n",
       "4      535.702820\n",
       "          ...    \n",
       "295    390.664917\n",
       "296    619.705383\n",
       "297    414.130798\n",
       "298    571.580811\n",
       "299    508.402557\n",
       "Length: 300, dtype: float32"
      ]
     },
     "execution_count": 35,
     "metadata": {},
     "output_type": "execute_result"
    }
   ],
   "source": [
    "test_predictions"
   ]
  },
  {
   "cell_type": "code",
   "execution_count": 38,
   "id": "e08889a4",
   "metadata": {},
   "outputs": [],
   "source": [
    "y_pred_df = pd.concat([pd.DataFrame(y_test), pd.DataFrame(test_predictions)], axis=1)"
   ]
  },
  {
   "cell_type": "code",
   "execution_count": 40,
   "id": "77536959",
   "metadata": {},
   "outputs": [],
   "source": [
    "y_pred_df.columns =[\"y_test\", \"y_pred\"]"
   ]
  },
  {
   "cell_type": "code",
   "execution_count": 41,
   "id": "bb945113",
   "metadata": {},
   "outputs": [
    {
     "data": {
      "text/html": [
       "<div>\n",
       "<style scoped>\n",
       "    .dataframe tbody tr th:only-of-type {\n",
       "        vertical-align: middle;\n",
       "    }\n",
       "\n",
       "    .dataframe tbody tr th {\n",
       "        vertical-align: top;\n",
       "    }\n",
       "\n",
       "    .dataframe thead th {\n",
       "        text-align: right;\n",
       "    }\n",
       "</style>\n",
       "<table border=\"1\" class=\"dataframe\">\n",
       "  <thead>\n",
       "    <tr style=\"text-align: right;\">\n",
       "      <th></th>\n",
       "      <th>y_test</th>\n",
       "      <th>y_pred</th>\n",
       "    </tr>\n",
       "  </thead>\n",
       "  <tbody>\n",
       "    <tr>\n",
       "      <th>0</th>\n",
       "      <td>655.391403</td>\n",
       "      <td>629.855896</td>\n",
       "    </tr>\n",
       "    <tr>\n",
       "      <th>1</th>\n",
       "      <td>511.366708</td>\n",
       "      <td>515.665588</td>\n",
       "    </tr>\n",
       "    <tr>\n",
       "      <th>2</th>\n",
       "      <td>515.778446</td>\n",
       "      <td>516.041931</td>\n",
       "    </tr>\n",
       "    <tr>\n",
       "      <th>3</th>\n",
       "      <td>478.358238</td>\n",
       "      <td>488.984833</td>\n",
       "    </tr>\n",
       "    <tr>\n",
       "      <th>4</th>\n",
       "      <td>543.830279</td>\n",
       "      <td>535.702820</td>\n",
       "    </tr>\n",
       "    <tr>\n",
       "      <th>...</th>\n",
       "      <td>...</td>\n",
       "      <td>...</td>\n",
       "    </tr>\n",
       "    <tr>\n",
       "      <th>295</th>\n",
       "      <td>372.777436</td>\n",
       "      <td>390.664917</td>\n",
       "    </tr>\n",
       "    <tr>\n",
       "      <th>296</th>\n",
       "      <td>639.818362</td>\n",
       "      <td>619.705383</td>\n",
       "    </tr>\n",
       "    <tr>\n",
       "      <th>297</th>\n",
       "      <td>403.062564</td>\n",
       "      <td>414.130798</td>\n",
       "    </tr>\n",
       "    <tr>\n",
       "      <th>298</th>\n",
       "      <td>579.428431</td>\n",
       "      <td>571.580811</td>\n",
       "    </tr>\n",
       "    <tr>\n",
       "      <th>299</th>\n",
       "      <td>510.878579</td>\n",
       "      <td>508.402557</td>\n",
       "    </tr>\n",
       "  </tbody>\n",
       "</table>\n",
       "<p>300 rows × 2 columns</p>\n",
       "</div>"
      ],
      "text/plain": [
       "         y_test      y_pred\n",
       "0    655.391403  629.855896\n",
       "1    511.366708  515.665588\n",
       "2    515.778446  516.041931\n",
       "3    478.358238  488.984833\n",
       "4    543.830279  535.702820\n",
       "..          ...         ...\n",
       "295  372.777436  390.664917\n",
       "296  639.818362  619.705383\n",
       "297  403.062564  414.130798\n",
       "298  579.428431  571.580811\n",
       "299  510.878579  508.402557\n",
       "\n",
       "[300 rows x 2 columns]"
      ]
     },
     "execution_count": 41,
     "metadata": {},
     "output_type": "execute_result"
    }
   ],
   "source": [
    "y_pred_df"
   ]
  },
  {
   "cell_type": "code",
   "execution_count": 42,
   "id": "09f9359c",
   "metadata": {},
   "outputs": [
    {
     "data": {
      "text/plain": [
       "<AxesSubplot:xlabel='y_test', ylabel='y_pred'>"
      ]
     },
     "execution_count": 42,
     "metadata": {},
     "output_type": "execute_result"
    },
    {
     "data": {
      "image/png": "[encoded data removed]",
      "text/plain": [
       "<Figure size 432x288 with 1 Axes>"
      ]
     },
     "metadata": {
      "needs_background": "light"
     },
     "output_type": "display_data"
    }
   ],
   "source": [
    "sns.scatterplot(x='y_test', y='y_pred', data=y_pred_df)"
   ]
  },
  {
   "cell_type": "code",
   "execution_count": 45,
   "id": "1ee75685",
   "metadata": {},
   "outputs": [
    {
     "data": {
      "text/plain": [
       "<AxesSubplot:ylabel='Density'>"
      ]
     },
     "execution_count": 45,
     "metadata": {},
     "output_type": "execute_result"
    },
    {
     "data": {
      "image/png": "[encoded data removed]",
      "text/plain": [
       "<Figure size 432x288 with 1 Axes>"
      ]
     },
     "metadata": {
      "needs_background": "light"
     },
     "output_type": "display_data"
    }
   ],
   "source": [
    "sns.distplot((y_test- y_pred), bins=30)"
   ]
  },
  {
   "cell_type": "code",
   "execution_count": 46,
   "id": "aa996a36",
   "metadata": {},
   "outputs": [
    {
     "data": {
      "text/plain": [
       "(array([[ 0.,  0.,  0., ..., 78., 17.,  0.],\n",
       "        [ 0.,  0.,  2., ...,  4.,  0.,  0.],\n",
       "        [ 0.,  0.,  2., ...,  5.,  0.,  0.],\n",
       "        ...,\n",
       "        [ 0.,  2., 31., ...,  0.,  0.,  0.],\n",
       "        [ 0.,  0.,  0., ..., 25.,  1.,  0.],\n",
       "        [ 0.,  0.,  2., ...,  4.,  0.,  0.]]),\n",
       " array([-491.46202237, -392.989735  , -294.51744764, -196.04516028,\n",
       "         -97.57287291,    0.89941445,   99.37170182,  197.84398918,\n",
       "         296.31627655,  394.78856391,  493.26085128]),\n",
       " <a list of 300 BarContainer objects>)"
      ]
     },
     "execution_count": 46,
     "metadata": {},
     "output_type": "execute_result"
    },
    {
     "data": {
      "image/png": "[encoded data removed]",
      "text/plain": [
       "<Figure size 432x288 with 1 Axes>"
      ]
     },
     "metadata": {
      "needs_background": "light"
     },
     "output_type": "display_data"
    }
   ],
   "source": [
    "plt.hist((y_test- y_pred))"
   ]
  },
  {
   "cell_type": "code",
   "execution_count": 47,
   "id": "2dfd8890",
   "metadata": {},
   "outputs": [
    {
     "name": "stdout",
     "output_type": "stream",
     "text": [
      "MAE: 12.387651300415722\n",
      "MSE: 248.2384446737469\n",
      "RMSE: 15.755584555126696\n"
     ]
    }
   ],
   "source": [
    "from sklearn import metrics\n",
    "print('MAE:', metrics.mean_absolute_error(y_test, y_pred))\n",
    "print('MSE:', metrics.mean_squared_error(y_test, y_pred))\n",
    "print('RMSE:', np.sqrt(metrics.mean_squared_error(y_test, y_pred)))"
   ]
  },
  {
   "cell_type": "code",
   "execution_count": null,
   "id": "77f51a9a",
   "metadata": {},
   "outputs": [],
   "source": []
  }
 ],
 "metadata": {
  "kernelspec": {
   "display_name": "Python 3 (ipykernel)",
   "language": "python",
   "name": "python3"
  },
  "language_info": {
   "codemirror_mode": {
    "name": "ipython",
    "version": 3
   },
   "file_extension": ".py",
   "mimetype": "text/x-python",
   "name": "python",
   "nbconvert_exporter": "python",
   "pygments_lexer": "ipython3",
   "version": "3.9.7"
  }
 },
 "nbformat": 4,
 "nbformat_minor": 5
}
